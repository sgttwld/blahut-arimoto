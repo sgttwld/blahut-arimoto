{
 "cells": [
  {
   "cell_type": "markdown",
   "metadata": {},
   "source": [
    "## Serial case (1 dimensional)"
   ]
  },
  {
   "cell_type": "code",
   "execution_count": 1,
   "metadata": {},
   "outputs": [],
   "source": [
    "import numpy as np\n",
    "from matplotlib import pyplot as plt\n",
    "import seaborn as sns\n",
    "import _lib.pr_func as pr\n",
    "from _lib.utility import *"
   ]
  },
  {
   "cell_type": "code",
   "execution_count": 5,
   "metadata": {},
   "outputs": [],
   "source": [
    "# dimensions\n",
    "N,M,K = 20,10,20\n",
    "pr.set_dims([('w',N),('x',M),('a',K)])\n",
    "\n",
    "# environment\n",
    "U = pr.func(vars=['w','a'],val=gauss_utility(N,K,sigma=2.0))\n",
    "pw = pr.func(vars=['w'],val='rnd')\n",
    "\n",
    "# Lagrange multipliers\n",
    "beta = 100.0    # first step, p(x) -> p(x|w)\n",
    "gamma = 90.0    # second step, p(a) -> p(a|x)"
   ]
  },
  {
   "cell_type": "code",
   "execution_count": 8,
   "metadata": {},
   "outputs": [
    {
     "data": {
      "image/png": "[encoded data removed]",
      "text/plain": [
       "<matplotlib.figure.Figure at 0x10f757d50>"
      ]
     },
     "metadata": {},
     "output_type": "display_data"
    }
   ],
   "source": [
    "# initializations\n",
    "pw = pr.func(vars=['w'], val='unif').normalize()\n",
    "px = pr.func(vars=['x'], val='unif').normalize()\n",
    "pa = pr.func(vars=['a'], val='unif').normalize()\n",
    "F = pr.func('f(w,x)', val='rnd')\n",
    "pxgw_temp = 0\n",
    "\n",
    "# BA iteration\n",
    "for i in range(0,10000):\n",
    "    pxgw = (px*pr.exp(beta*F)).normalize(['x'])\n",
    "    px = pr.sum(pw*pxgw,['w'])\n",
    "    pwgx = (pxgw*pw)/px\n",
    "    pagx = (pa*pr.exp(gamma*pr.sum(pwgx*U,['w']))).normalize(['a'])\n",
    "    pa = pr.sum(pxgw*pw*pagx,['w','x'])\n",
    "    F = pr.sum(pagx*(U-pr.log(pagx/pa)/gamma),['a'])\n",
    "    # stopping condition\n",
    "    if np.linalg.norm(pxgw.val-pxgw_temp)<1e-10: break\n",
    "    pxgw_temp = pxgw.val\n",
    "\n",
    "\n",
    "# calc and plot p(a|w)    \n",
    "pagw = pr.sum(pxgw*pagx,['x'])\n",
    "plt.pcolor(pagw.val)\n",
    "plt.show()"
   ]
  },
  {
   "cell_type": "code",
   "execution_count": null,
   "metadata": {},
   "outputs": [],
   "source": []
  }
 ],
 "metadata": {
  "kernelspec": {
   "display_name": "Python 2",
   "language": "python",
   "name": "python2"
  },
  "language_info": {
   "codemirror_mode": {
    "name": "ipython",
    "version": 2
   },
   "file_extension": ".py",
   "mimetype": "text/x-python",
   "name": "python",
   "nbconvert_exporter": "python",
   "pygments_lexer": "ipython2",
   "version": "2.7.10"
  }
 },
 "nbformat": 4,
 "nbformat_minor": 2
}
